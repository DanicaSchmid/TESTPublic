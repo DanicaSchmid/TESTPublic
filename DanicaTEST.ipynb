{
  "nbformat": 4,
  "nbformat_minor": 0,
  "metadata": {
    "colab": {
      "name": "DanicaTEST.ipynb",
      "provenance": [],
      "authorship_tag": "ABX9TyNjP/tyFKfFBe3sKQO47LEh",
      "include_colab_link": true
    },
    "kernelspec": {
      "name": "python3",
      "display_name": "Python 3"
    },
    "language_info": {
      "name": "python"
    }
  },
  "cells": [
    {
      "cell_type": "markdown",
      "metadata": {
        "id": "view-in-github",
        "colab_type": "text"
      },
      "source": [
        "<a href=\"https://colab.research.google.com/github/DanicaSchmid/TESTPublic/blob/main/DanicaTEST.ipynb\" target=\"_parent\"><img src=\"https://colab.research.google.com/assets/colab-badge.svg\" alt=\"Open In Colab\"/></a>"
      ]
    },
    {
      "cell_type": "code",
      "metadata": {
        "colab": {
          "base_uri": "https://localhost:8080/"
        },
        "id": "3jeZ5OopYWbn",
        "outputId": "736a056b-426f-4a8b-944b-21af82d556c9"
      },
      "source": [
        "print (\"Hello Google Colab\")"
      ],
      "execution_count": null,
      "outputs": [
        {
          "output_type": "stream",
          "text": [
            "Hello Google Colab\n"
          ],
          "name": "stdout"
        }
      ]
    },
    {
      "cell_type": "code",
      "metadata": {
        "colab": {
          "base_uri": "https://localhost:8080/"
        },
        "id": "ZXUoz9JcYc2E",
        "outputId": "084183d1-65cc-403a-bc70-492a0291b41a"
      },
      "source": [
        "2+4"
      ],
      "execution_count": null,
      "outputs": [
        {
          "output_type": "execute_result",
          "data": {
            "text/plain": [
              "6"
            ]
          },
          "metadata": {
            "tags": []
          },
          "execution_count": 2
        }
      ]
    },
    {
      "cell_type": "code",
      "metadata": {
        "colab": {
          "base_uri": "https://localhost:8080/"
        },
        "id": "RRcpbChmYiC6",
        "outputId": "8638d061-6c76-4101-9a12-319569a18f18"
      },
      "source": [
        "x = range (5)\n",
        "print (x)\n",
        "for i in x:\n",
        "  print (x)"
      ],
      "execution_count": null,
      "outputs": [
        {
          "output_type": "stream",
          "text": [
            "range(0, 5)\n",
            "range(0, 5)\n",
            "range(0, 5)\n",
            "range(0, 5)\n",
            "range(0, 5)\n",
            "range(0, 5)\n"
          ],
          "name": "stdout"
        }
      ]
    },
    {
      "cell_type": "code",
      "metadata": {
        "id": "165_ROaSYvNE"
      },
      "source": [
        ""
      ],
      "execution_count": null,
      "outputs": []
    },
    {
      "cell_type": "markdown",
      "metadata": {
        "id": "ptnq7N7KZAlh"
      },
      "source": [
        "# Hallo \n",
        "dies ist eine **Übung**\n"
      ]
    },
    {
      "cell_type": "code",
      "metadata": {
        "id": "16FlHpaAZJw3"
      },
      "source": [
        ""
      ],
      "execution_count": null,
      "outputs": []
    }
  ]
}